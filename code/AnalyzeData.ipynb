{
 "cells": [
  {
   "cell_type": "code",
   "execution_count": 44,
   "metadata": {},
   "outputs": [
    {
     "name": "stdout",
     "output_type": "stream",
     "text": [
      "The autoreload extension is already loaded. To reload it, use:\n",
      "  %reload_ext autoreload\n"
     ]
    }
   ],
   "source": [
    "%load_ext autoreload\n",
    "%autoreload 2\n",
    "%matplotlib inline\n",
    "import numpy as np\n",
    "import matplotlib.pyplot as plt\n",
    "import scipy.spatial\n",
    "import pickle, os, time\n",
    "\n",
    "import entropy\n",
    "\n",
    "basedir = 'saveddata/Regression/v5sq-eta'\n",
    "basedir = 'saveddata/NoisyClassifier/v1'\n",
    "#vals = {'VIB' :{'YT':[],'XT':[], 'XTlb':[]},\n",
    "#        'nlIB':{'YT':[],'XT':[], 'XTlb':[]},}\n"
   ]
  },
  {
   "cell_type": "code",
   "execution_count": 63,
   "metadata": {
    "scrolled": false
   },
   "outputs": [
    {
     "name": "stdout",
     "output_type": "stream",
     "text": [
      "      results-VIB-0.00100-run0 trn beta: 0.0010 Ixt: 4.21-5.37 (4.39) Iyt: 0.69\n",
      "      results-VIB-0.00100-run0 tst beta: 0.0010 Ixt: 4.22-5.37 (4.38) Iyt: 0.69\n"
     ]
    }
   ],
   "source": [
    "vals = {'VIB'  : {'tst' : {}, 'trn' : {}}, \n",
    "        'nlIB' : {'tst' : {}, 'trn' : {}}}\n",
    "\n",
    "for fname in os.listdir(basedir):\n",
    "    with open(basedir + '/' + fname, 'rb') as f:\n",
    "        if fname.endswith('-base') or fname.startswith('_tf_basemodel') or fname=='checkpoint':\n",
    "            continue\n",
    "        _, mode, _, _ = fname.split(\"-\")\n",
    "        cfg, saved_data = pickle.load(f)\n",
    "        lrow = saved_data[-1]\n",
    "        var, beta = lrow['noisevar'], lrow['beta']\n",
    "        for r in ['trn','tst']:\n",
    "            l     = lrow[r]\n",
    "            mx    = l['activations']\n",
    "            n, d  = mx.shape\n",
    "            mcH   = entropy.get_mc_entropy(mx, var)\n",
    "            hCond = entropy.Gaussian_entropy_np(d, var)\n",
    "            l['Ixt_mc'] = mcH - hCond\n",
    "            print('%30s %s beta: %0.4f Ixt: %0.2f-%0.2f (%0.2f) Iyt: %0.2f' % \n",
    "                  (fname, r, beta, l['Ixt_lb'], l['Ixt'], l['Ixt_mc'], l['Iyt']))\n",
    "\n",
    "            if beta not in vals[mode][r] or \\\n",
    "               (mcXT <= vals[mode][r][beta]['Ixt_mc'] and yt >= vals[mode][r][beta]['Iyt']):\n",
    "                vals[mode][r][beta] = lrow[r]\n",
    "                if False:\n",
    "                    plt.figure()\n",
    "                    plt.scatter(mx[:,0], mx[:,1], s=l['noisevar'], alpha=.3)\n",
    "                    plt.title('beta=%.4f mode=%s'%(beta, mode))\n",
    "            \n"
   ]
  },
  {
   "cell_type": "code",
   "execution_count": 53,
   "metadata": {},
   "outputs": [
    {
     "data": {
      "image/png": "[encoded data removed]",
      "text/plain": [
       "<Figure size 720x360 with 2 Axes>"
      ]
     },
     "metadata": {},
     "output_type": "display_data"
    }
   ],
   "source": [
    "plt.figure(figsize=(10,5))\n",
    "for rndx, r in enumerate(['trn','tst']):\n",
    "    plt.subplot(1,2,rndx+1)\n",
    "    for mode in ['nlIB', 'VIB']:\n",
    "        d = vals[mode][r]\n",
    "        bvals = sorted(d.keys())\n",
    "        xt   = [d[b]['Ixt'] for b in bvals]\n",
    "        xtlb = [d[b]['Ixt_lb'] for b in bvals]\n",
    "        xtmc = [d[b]['Ixt_mc'] for b in bvals]\n",
    "        yt   = [d[b]['Iyt'] for b in bvals]\n",
    "        plt.plot(xtmc, yt, marker='x', label=mode)\n",
    "        #plt.fill_betweenx(yt, xtlb, xt, alpha=0.3, label=mode)\n",
    "    plt.ylabel('I(X:T)')\n",
    "    plt.xlabel('I(Y:T)')\n",
    "    # plt.plot([0, np.log(2)], [0,np.log(2)], 'k--')\n",
    "    plt.legend(loc='lower right')\n",
    "    plt.title(r)"
   ]
  },
  {
   "cell_type": "code",
   "execution_count": 36,
   "metadata": {},
   "outputs": [
    {
     "ename": "KeyError",
     "evalue": "0.05",
     "output_type": "error",
     "traceback": [
      "\u001b[0;31m---------------------------------------------------------------------------\u001b[0m",
      "\u001b[0;31mKeyError\u001b[0m                                  Traceback (most recent call last)",
      "\u001b[0;32m<ipython-input-36-ddf34e5bdf79>\u001b[0m in \u001b[0;36m<module>\u001b[0;34m()\u001b[0m\n\u001b[1;32m      1\u001b[0m \u001b[0;31m#print(vals['nlIB']['trn'][.05])\u001b[0m\u001b[0;34m\u001b[0m\u001b[0;34m\u001b[0m\u001b[0m\n\u001b[1;32m      2\u001b[0m \u001b[0mplt\u001b[0m\u001b[0;34m.\u001b[0m\u001b[0mfigure\u001b[0m\u001b[0;34m(\u001b[0m\u001b[0;34m)\u001b[0m\u001b[0;34m\u001b[0m\u001b[0m\n\u001b[0;32m----> 3\u001b[0;31m \u001b[0mplt\u001b[0m\u001b[0;34m.\u001b[0m\u001b[0mscatter\u001b[0m\u001b[0;34m(\u001b[0m\u001b[0;34m*\u001b[0m\u001b[0mvals\u001b[0m\u001b[0;34m[\u001b[0m\u001b[0;34m'VIB'\u001b[0m\u001b[0;34m]\u001b[0m\u001b[0;34m[\u001b[0m\u001b[0;34m'tst'\u001b[0m\u001b[0;34m]\u001b[0m\u001b[0;34m[\u001b[0m\u001b[0;36m.05\u001b[0m\u001b[0;34m]\u001b[0m\u001b[0;34m[\u001b[0m\u001b[0;34m'act'\u001b[0m\u001b[0;34m]\u001b[0m\u001b[0;34m.\u001b[0m\u001b[0mT\u001b[0m\u001b[0;34m,\u001b[0m \u001b[0ms\u001b[0m\u001b[0;34m=\u001b[0m\u001b[0mvals\u001b[0m\u001b[0;34m[\u001b[0m\u001b[0;34m'VIB'\u001b[0m\u001b[0;34m]\u001b[0m\u001b[0;34m[\u001b[0m\u001b[0;34m'tst'\u001b[0m\u001b[0;34m]\u001b[0m\u001b[0;34m[\u001b[0m\u001b[0;36m.05\u001b[0m\u001b[0;34m]\u001b[0m\u001b[0;34m[\u001b[0m\u001b[0;34m'noisevar'\u001b[0m\u001b[0;34m]\u001b[0m\u001b[0;34m,\u001b[0m \u001b[0malpha\u001b[0m\u001b[0;34m=\u001b[0m\u001b[0;36m0.1\u001b[0m\u001b[0;34m)\u001b[0m\u001b[0;34m\u001b[0m\u001b[0m\n\u001b[0m\u001b[1;32m      4\u001b[0m \u001b[0mplt\u001b[0m\u001b[0;34m.\u001b[0m\u001b[0mfigure\u001b[0m\u001b[0;34m(\u001b[0m\u001b[0;34m)\u001b[0m\u001b[0;34m\u001b[0m\u001b[0m\n\u001b[1;32m      5\u001b[0m \u001b[0mplt\u001b[0m\u001b[0;34m.\u001b[0m\u001b[0mscatter\u001b[0m\u001b[0;34m(\u001b[0m\u001b[0;34m*\u001b[0m\u001b[0mvals\u001b[0m\u001b[0;34m[\u001b[0m\u001b[0;34m'nlIB'\u001b[0m\u001b[0;34m]\u001b[0m\u001b[0;34m[\u001b[0m\u001b[0;34m'tst'\u001b[0m\u001b[0;34m]\u001b[0m\u001b[0;34m[\u001b[0m\u001b[0;36m.05\u001b[0m\u001b[0;34m]\u001b[0m\u001b[0;34m[\u001b[0m\u001b[0;34m'act'\u001b[0m\u001b[0;34m]\u001b[0m\u001b[0;34m.\u001b[0m\u001b[0mT\u001b[0m\u001b[0;34m,\u001b[0m \u001b[0ms\u001b[0m\u001b[0;34m=\u001b[0m\u001b[0mvals\u001b[0m\u001b[0;34m[\u001b[0m\u001b[0;34m'nlIB'\u001b[0m\u001b[0;34m]\u001b[0m\u001b[0;34m[\u001b[0m\u001b[0;34m'tst'\u001b[0m\u001b[0;34m]\u001b[0m\u001b[0;34m[\u001b[0m\u001b[0;36m.05\u001b[0m\u001b[0;34m]\u001b[0m\u001b[0;34m[\u001b[0m\u001b[0;34m'noivarvar'\u001b[0m\u001b[0;34m]\u001b[0m\u001b[0;34m,\u001b[0m \u001b[0malpha\u001b[0m\u001b[0;34m=\u001b[0m\u001b[0;36m0.1\u001b[0m\u001b[0;34m)\u001b[0m\u001b[0;34m\u001b[0m\u001b[0m\n",
      "\u001b[0;31mKeyError\u001b[0m: 0.05"
     ]
    },
    {
     "data": {
      "text/plain": [
       "<Figure size 432x288 with 0 Axes>"
      ]
     },
     "metadata": {},
     "output_type": "display_data"
    }
   ],
   "source": [
    "#print(vals['nlIB']['trn'][.05])\n",
    "plt.figure()\n",
    "plt.scatter(*vals['VIB']['tst'][.05]['act'].T, s=vals['VIB']['tst'][.05]['noisevar'], alpha=0.1)\n",
    "plt.figure()\n",
    "plt.scatter(*vals['nlIB']['tst'][.05]['act'].T, s=vals['nlIB']['tst'][.05]['noivarvar'], alpha=0.1)\n",
    "#print(get_mc(vals['nlIB']['trn'][.95]['noisevar'])\n"
   ]
  },
  {
   "cell_type": "code",
   "execution_count": null,
   "metadata": {},
   "outputs": [],
   "source": []
  }
 ],
 "metadata": {
  "kernelspec": {
   "display_name": "Python 3",
   "language": "python",
   "name": "python3"
  },
  "language_info": {
   "codemirror_mode": {
    "name": "ipython",
    "version": 3
   },
   "file_extension": ".py",
   "mimetype": "text/x-python",
   "name": "python",
   "nbconvert_exporter": "python",
   "pygments_lexer": "ipython3",
   "version": "3.6.5"
  }
 },
 "nbformat": 4,
 "nbformat_minor": 2
}
