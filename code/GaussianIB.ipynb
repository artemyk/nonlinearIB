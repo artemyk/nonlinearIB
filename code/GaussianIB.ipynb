{
 "cells": [
  {
   "cell_type": "code",
   "execution_count": 1,
   "metadata": {},
   "outputs": [
    {
     "name": "stderr",
     "output_type": "stream",
     "text": [
      "/home/artemy/anaconda3/lib/python3.6/site-packages/h5py/__init__.py:36: FutureWarning: Conversion of the second argument of issubdtype from `float` to `np.floating` is deprecated. In future, it will be treated as `np.float64 == np.dtype(float).type`.\n",
      "  from ._conv import register_converters as _register_converters\n"
     ]
    }
   ],
   "source": [
    "import numpy as np\n",
    "import scipy\n",
    "np.set_printoptions(precision=3)\n",
    "%matplotlib inline\n",
    "import matplotlib.pyplot as plt\n",
    "from entropy import get_gib_curve"
   ]
  },
  {
   "cell_type": "code",
   "execution_count": 12,
   "metadata": {},
   "outputs": [
    {
     "data": {
      "text/plain": [
       "[<matplotlib.lines.Line2D at 0x7fbd443afd68>]"
      ]
     },
     "execution_count": 12,
     "metadata": {},
     "output_type": "execute_result"
    },
    {
     "data": {
      "image/png": "[encoded data removed]",
      "text/plain": [
       "<Figure size 432x288 with 1 Axes>"
      ]
     },
     "metadata": {},
     "output_type": "display_data"
    }
   ],
   "source": [
    "ndata = 1000\n",
    "xdims = 50\n",
    "ydims = 10\n",
    "tdims = xdims + ydims\n",
    "\n",
    "A = np.random.rand(tdims, tdims)\n",
    "#cov = A.dot(A.T)\n",
    "XY = np.random.standard_normal(size=(ndata, xdims+ydims))\n",
    "XY = XY - XY.mean(axis=0)\n",
    "XY = XY.dot(A.T)\n",
    "X = XY[:, :xdims]\n",
    "Y = XY[:, xdims:]\n",
    "\n",
    "covXY = np.cov(XY.T)\n",
    "\n",
    "\n",
    "xs, ys = get_gib_curve(covXY, xdims)\n",
    "plt.plot(xs, ys)"
   ]
  },
  {
   "cell_type": "code",
   "execution_count": null,
   "metadata": {},
   "outputs": [],
   "source": []
  }
 ],
 "metadata": {
  "kernelspec": {
   "display_name": "Python 3",
   "language": "python",
   "name": "python3"
  },
  "language_info": {
   "codemirror_mode": {
    "name": "ipython",
    "version": 3
   },
   "file_extension": ".py",
   "mimetype": "text/x-python",
   "name": "python",
   "nbconvert_exporter": "python",
   "pygments_lexer": "ipython3",
   "version": "3.6.5"
  }
 },
 "nbformat": 4,
 "nbformat_minor": 2
}
