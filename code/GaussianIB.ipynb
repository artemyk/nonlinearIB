{
 "cells": [
  {
   "cell_type": "code",
   "execution_count": 1,
   "metadata": {},
   "outputs": [],
   "source": [
    "import numpy as np\n",
    "import scipy\n",
    "np.set_printoptions(precision=3)\n",
    "%matplotlib inline\n",
    "import matplotlib.pyplot as plt\n",
    "from entropy import get_gib_curve"
   ]
  },
  {
   "cell_type": "code",
   "execution_count": 2,
   "metadata": {},
   "outputs": [
    {
     "data": {
      "text/plain": [
       "[<matplotlib.lines.Line2D at 0x7f4bf40181d0>]"
      ]
     },
     "execution_count": 2,
     "metadata": {},
     "output_type": "execute_result"
    },
    {
     "data": {
      "image/png": "[encoded data removed]",
      "text/plain": [
       "<Figure size 432x288 with 1 Axes>"
      ]
     },
     "metadata": {
      "needs_background": "light"
     },
     "output_type": "display_data"
    }
   ],
   "source": [
    "ndata = 1000\n",
    "xdims = 50\n",
    "ydims = 10\n",
    "tdims = xdims + ydims\n",
    "\n",
    "A = np.random.rand(tdims, tdims)\n",
    "#cov = A.dot(A.T)\n",
    "XY = np.random.standard_normal(size=(ndata, xdims+ydims))\n",
    "XY = XY - XY.mean(axis=0)\n",
    "XY = XY.dot(A.T)\n",
    "X = XY[:, :xdims]\n",
    "Y = XY[:, xdims:]\n",
    "\n",
    "covXY = np.cov(XY.T)\n",
    "\n",
    "\n",
    "xs, ys = get_gib_curve(covXY, xdims)\n",
    "plt.plot(xs, ys)"
   ]
  },
  {
   "cell_type": "code",
   "execution_count": null,
   "metadata": {},
   "outputs": [],
   "source": []
  }
 ],
 "metadata": {
  "kernelspec": {
   "display_name": "Python 3",
   "language": "python",
   "name": "python3"
  },
  "language_info": {
   "codemirror_mode": {
    "name": "ipython",
    "version": 3
   },
   "file_extension": ".py",
   "mimetype": "text/x-python",
   "name": "python",
   "nbconvert_exporter": "python",
   "pygments_lexer": "ipython3",
   "version": "3.6.9"
  }
 },
 "nbformat": 4,
 "nbformat_minor": 2
}
