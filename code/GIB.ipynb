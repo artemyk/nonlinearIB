{
 "cells": [
  {
   "cell_type": "code",
   "execution_count": 1,
   "metadata": {},
   "outputs": [],
   "source": [
    "import numpy as np\n",
    "import scipy\n",
    "np.set_printoptions(precision=3)"
   ]
  },
  {
   "cell_type": "code",
   "execution_count": 5,
   "metadata": {},
   "outputs": [
    {
     "name": "stdout",
     "output_type": "stream",
     "text": [
      "[0.007 0.831]\n"
     ]
    }
   ],
   "source": [
    "ndata = 1000\n",
    "xdims = 2\n",
    "ydims = 2\n",
    "tdims = xdims + ydims\n",
    "\n",
    "A = np.random.rand(tdims, tdims)\n",
    "#cov = A.dot(A.T)\n",
    "XY = np.random.standard_normal(size=(ndata, xdims+ydims))\n",
    "XY = XY - XY.mean(axis=0)\n",
    "XY = XY.dot(A.T)\n",
    "X = XY[:, :xdims]\n",
    "Y = XY[:, xdims:]\n",
    "\n",
    "covXY = np.cov(XY.T)\n",
    "covX = covXY[:xdims,:xdims]\n",
    "covY = covXY[xdims:,xdims:]\n",
    "\n",
    "covXgY = covX - covXY[:xdims,xdims:].dot(np.linalg.inv(covY)).dot(covXY[xdims:,:xdims])\n",
    "\n",
    "#http://www.jmlr.org/papers/volume6/chechik05a/chechik05a.pdf\n",
    "mainMx = covXgY.dot(np.linalg.inv(covX))\n",
    "\n",
    "evecs, evals = np.linalg.eig(mainMx)\n",
    "assert(np.all(evecs >= 0) and np.all(evecs <= 1))\n",
    "\n",
    "print(evecs)"
   ]
  },
  {
   "cell_type": "code",
   "execution_count": 91,
   "metadata": {},
   "outputs": [],
   "source": [
    "ndata = 1000\n",
    "xdims = 2\n",
    "ydims = 2\n",
    "tdims = xdims + ydims\n",
    "\n",
    "A = np.random.rand(tdims, tdims)\n",
    "cov = A.dot(A.T)\n",
    "#print(cov)\n",
    "XY = np.random.standard_normal(size=(ndata, xdims+ydims))\n",
    "XY = XY - XY.mean(axis=0)\n",
    "XY = XY.dot(A.T)\n",
    "X = XY[:, :xdims]\n",
    "Y = XY[:, xdims:]\n",
    "\n",
    "covX = np.cov(X.T)\n",
    "covY = np.cov(Y.T)\n",
    "\n",
    "covXY = np.cov(XY.T)\n",
    "covX = covXY[:xdims,:xdims]\n",
    "covY = covXY[xdims:,xdims:]\n",
    "\n",
    "covYgX = covY - covXY[xdims:,:xdims].dot(np.linalg.inv(covX)).dot(covXY[:xdims,xdims:])\n",
    "covYgX2 = covY - covXY[:xdims,xdims:].dot(np.linalg.inv(covX)).dot(covXY[xdims:,:xdims])\n",
    "\n",
    "covXgY = covX - covXY[xdims:,:xdims].dot(np.linalg.inv(covY)).dot(covXY[:xdims,xdims:])\n",
    "covXgY2 = covX - covXY[:xdims,xdims:].dot(np.linalg.inv(covY)).dot(covXY[xdims:,:xdims])\n",
    "\n",
    "#http://www.jmlr.org/papers/volume6/chechik05a/chechik05a.pdf\n",
    "mx2 = covXgY.dot(np.linalg.inv(covX))\n",
    "mx2b = covXgY2.dot(np.linalg.inv(covX))\n",
    "\n",
    "#print(XY.mean(axis=0))\n",
    "#print(np.cov(XY.T))\n",
    "#print(cov)\n",
    "\n",
    "# https://stats.stackexchange.com/questions/186402/expressing-conditional-covariance-matrix-in-terms-of-covariance-matrix\n",
    "#cov = np.cov(XY)"
   ]
  },
  {
   "cell_type": "code",
   "execution_count": 92,
   "metadata": {},
   "outputs": [
    {
     "name": "stdout",
     "output_type": "stream",
     "text": [
      "(array([ 0.998, -9.039]), array([[0.972, 0.353],\n",
      "       [0.234, 0.936]]))\n",
      "(array([0.102, 0.982]), array([[-0.82 ,  0.612],\n",
      "       [-0.572, -0.791]]))\n"
     ]
    }
   ],
   "source": [
    "print(np.linalg.eig(mx2))\n",
    "evecs, evals = np.linalg.eig(mx2b)[0]\n",
    "assert(np.all(evecs >= 0) and np.all(evecs <= 1))\n",
    "\n"
   ]
  },
  {
   "cell_type": "code",
   "execution_count": 70,
   "metadata": {},
   "outputs": [
    {
     "data": {
      "text/plain": [
       "array([[ -8.019, -14.958],\n",
       "       [-14.958, -25.523]])"
      ]
     },
     "execution_count": 70,
     "metadata": {},
     "output_type": "execute_result"
    }
   ],
   "source": [
    "covYgX2"
   ]
  },
  {
   "cell_type": "code",
   "execution_count": 61,
   "metadata": {},
   "outputs": [
    {
     "data": {
      "text/plain": [
       "array([[1.696, 0.519, 1.258, 1.739],\n",
       "       [0.519, 0.393, 0.718, 0.853],\n",
       "       [1.258, 0.718, 1.433, 1.728],\n",
       "       [1.739, 0.853, 1.728, 2.401]])"
      ]
     },
     "execution_count": 61,
     "metadata": {},
     "output_type": "execute_result"
    }
   ],
   "source": [
    "covXY"
   ]
  },
  {
   "cell_type": "code",
   "execution_count": 62,
   "metadata": {},
   "outputs": [
    {
     "data": {
      "text/plain": [
       "(1000, 4)"
      ]
     },
     "execution_count": 62,
     "metadata": {},
     "output_type": "execute_result"
    }
   ],
   "source": [
    "XY.shape"
   ]
  },
  {
   "cell_type": "code",
   "execution_count": 63,
   "metadata": {},
   "outputs": [
    {
     "data": {
      "text/plain": [
       "array([[1.433, 1.728],\n",
       "       [1.728, 2.401]])"
      ]
     },
     "execution_count": 63,
     "metadata": {},
     "output_type": "execute_result"
    }
   ],
   "source": [
    "covY"
   ]
  },
  {
   "cell_type": "code",
   "execution_count": null,
   "metadata": {},
   "outputs": [],
   "source": []
  }
 ],
 "metadata": {
  "kernelspec": {
   "display_name": "Python 3",
   "language": "python",
   "name": "python3"
  },
  "language_info": {
   "codemirror_mode": {
    "name": "ipython",
    "version": 3
   },
   "file_extension": ".py",
   "mimetype": "text/x-python",
   "name": "python",
   "nbconvert_exporter": "python",
   "pygments_lexer": "ipython3",
   "version": "3.6.5"
  }
 },
 "nbformat": 4,
 "nbformat_minor": 2
}
